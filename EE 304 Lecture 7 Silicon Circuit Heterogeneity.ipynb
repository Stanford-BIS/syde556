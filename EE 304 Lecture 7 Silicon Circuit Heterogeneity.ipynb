{
 "cells": [
  {
   "cell_type": "markdown",
   "metadata": {},
   "source": [
    "# EE 304 - Neuromorphics: Brains in Silicon\n",
    "\n",
    "\n",
    "##  Silicon Circuit Heterogeneity\n",
    "\n",
    "<img src=\"files/lecture7/complete-lpf.png\" width=\"520\">\n",
    "The story thus far:\n",
    "\n",
    "- We started with a **dimensionless model** of the leaky membrane\n",
    "    - a first-order linear low-pass filter\n",
    "- We represented the **dimensionless variables as currents**\n",
    "    - these current levels (fA to nA) are chosen to keep the gate voltage subthreshold \n",
    "    - and are normalized by a \"unit current\" ($I_{\\rm n}$)\n",
    "- We used a capacitor (C) to represent the membrane's capactitance \n",
    "- We derived an expression for the current charging or discharging the capacitor, $I_C$\n",
    "    - in terms of the input ($I_u$) and output ($I_v$) currents\n",
    "- We found that **$I_C$ is proportional to $I_u/I_v - 1$**\n",
    "    - The proportionalilty constant ($I_{\\rm lk}$) is given by $C U_T/\\kappa\\tau$\n",
    "    - where $\\tau$ is the desired time-constant \n",
    "- To divide and multiply, we exploited the subthreshold MOS transistor's exponential current-voltage relation:\n",
    "    - **Multiply**: Apply sum of two gate voltages to third transistor's gate\n",
    "    - **Divide**: Apply difference of two gate voltages to third transistor's gate"
   ]
  },
  {
   "cell_type": "markdown",
   "metadata": {},
   "source": [
    "### How similar is one silicon circuit to another?\n",
    "\n",
    "<img src=\"files/lecture7/TransistorDopants50nm.png\" width=\"800\">\n",
    "\n",
    "We will now start to look at the fabrication process--it is far from perfect! \n",
    "\n",
    "- Fabricated copies of the circuit we designed are very different from each other\n",
    "- For the same input current, their output currents can differ by a factor of 10!\n",
    "- This heterogeneity arises from two sources:\n",
    "    - **Dopant fluctuations**: Some transistors receive more or less dopant atoms than others\n",
    "    - **Threshold mismatch**: These fluctuations result in a threshold-voltage distribution\n",
    "    - **Subthreshold operation**: The exponential current-voltage relationship amplifies threshold-voltage variation\n",
    "- Fabricated copies become **more similar** if we use\n",
    "    - **More silicon area**: Larger transistor channels average out dopant fluctuations  \n",
    "    - **More electrical power**: Current-voltage dependence is less steep above threshold"
   ]
  },
  {
   "cell_type": "markdown",
   "metadata": {},
   "source": [
    "### How similar is one transistor to another?\n",
    "\n",
    "<img src=\"files/lecture7/ThresholdDistribution90nm.png\" width=\"500\">\n",
    "\n",
    "A lot of work has been done characterizing transistor mismatch and understanding how it arises \n",
    "\n",
    "- Threshold voltages are **normally distributed**\n",
    "    - Arises because the number of dopant atoms in the channel is normally distributed \n",
    "    - Since these dopants are charged, their fluctuations result in charge fluctuations\n",
    "        - $\\Delta Q = q\\Delta N$, where $\\Delta N$ is the fluctuation in counts and $q$ ius the electronic charge\n",
    "        - $\\Delta V_{\\rm thr} = \\Delta Q/C_{\\rm ox}$, where $C_{\\rm ox}$ is the gate-to-channel capacitance \n",
    "- This is what we would expect in if \n",
    "    - Each dopant atom chooses it's location independently\n",
    "    - *And* the mean dopant-atom count is large \n",
    "        - It would be *Poisson* rather than *Normal* if the mean is small (few dozen)"
   ]
  },
  {
   "cell_type": "markdown",
   "metadata": {
    "collapsed": true
   },
   "source": [
    "### How does transistor mismatch vary with channel area?\n",
    "\n",
    "<img src=\"files/lecture7/ThresholdSigma-v-Area90nm.png\" width=\"500\">\n",
    "\n",
    "- From the previous slide, the threshold-voltage variation is\n",
    "    - $\\Delta V_{\\rm thr} = q\\Delta N/C_{\\rm ox}$\n",
    "- Hence, its variance can be expressed in terms of the variance in dopant-atom counts $\\sigma_{\\rm N}^2$:  \n",
    "    - $\\sigma_{\\rm V}^2 = q^2\\sigma_{\\rm N}^2/C_{\\rm ox}^2$\n",
    "- Independence implies that \n",
    "    - $\\sigma_{\\rm N}^2 = \\mu_{\\rm N} \\propto W \\times L$ \n",
    "- And we also have\n",
    "    - $C_{\\rm ox} \\propto W \\times L$\n",
    "- Consequently\n",
    "    - $\\sigma_{\\rm V}^2 \\propto 1/(W \\times L)$\n",
    "- The **standard deviation is inversely proportional to the square-root of the area**\n",
    "    - To reduce the standard deviation by a factor of two, the area must increase by a factor of four!\n",
    "- The trend breaks down for transistor channels with very large area \n",
    "    - Probably because the devices, arranged in dense arrays, are further apart\n",
    "- It is also expected to break down for transistors with very small areas\n",
    "    - Perimeter-to-area ratio increases\n",
    "    - Edge-efects become more significant"
   ]
  },
  {
   "cell_type": "markdown",
   "metadata": {},
   "source": [
    "### How do threshold-voltage variations translate to current variations?\n",
    "\n",
    "<img src=\"files/lecture7/NormalV-to-LognormalI.png\" width=\"800\">\n",
    "\n",
    "Normally distributed threshold variations translate to lognormally distributed current variations\n",
    "\n",
    "- Pass the threshold voltage distribution through an exponential\n",
    "- You will end up turning a normal distribution into a lognormal one\n",
    "    - That is, the log of the currents is normally distributed\n",
    "- The expressions are given relate:\n",
    "    - the lognormal distribution's mean and standard deviation ($\\mu_{\\rm I}$ and $\\sigma_{\\rm I}$) \n",
    "    - to the normal distribution's mean and standard deviation ($\\mu_{\\rm V}$ and $\\sigma_{\\rm V}$)\n",
    "- Note that:\n",
    "    - $\\mu_{\\rm I}$ depends on $\\mu_{\\rm V}$ as well as $\\sigma_{\\rm V}$\n",
    "    - $\\sigma_{\\rm I}$ depends on $\\sigma_{\\rm V}$ as well as $\\mu_{\\rm V}$\n",
    "    - $\\sigma_{\\rm I}/\\mu_{\\rm I}$ depends only on $\\sigma_{\\rm V}$ \n",
    "- That is, current mismatch expressed as a fraciton of the mean current depends only on voltage mismatch"
   ]
  },
  {
   "cell_type": "markdown",
   "metadata": {},
   "source": [
    "### Including threshold mismatch in the transistor model\n",
    "\n",
    "<img src=\"files/lecture7/id-vs-vg+mismatch.png\" width=\"1200\">\n",
    "\n",
    "We extend our expression for the transistor's subthreshold drain current to include mismatch as follows\n",
    "\n",
    " - We draw an offset voltage, $\\Delta V_{\\rm G}$, from a normal distribution with mean zero and standard deviation $\\sigma_{\\rm V_{\\rm th}}$:\n",
    " \n",
    " $p(\\Delta V_{\\rm G}) = \\frac{1}{\\sigma_{\\rm V_{\\rm th}}\\sqrt{2\\pi}}\\exp\\left(-\\frac{\\Delta V_{\\rm G}^2}{2\\sigma_{\\rm V_{\\rm th}}^2}\\right)$\n",
    "\n",
    "- We add this to the gate voltage, $V_{\\rm G}$, and obtain the current with mismatch\n",
    "\n",
    " $I_{\\rm D}(V_{\\rm G}, V_{\\rm S}) = I_0 e^{\\{\\kappa (V_{\\rm G} + \\Delta V_{\\rm G}) - V_{\\rm S}\\}/U_T}$\n",
    "\n",
    "- This expression can be written in terms of a gain factor $\\Lambda$\n",
    "\n",
    " $I_{\\rm D}(V_{\\rm G}, V_{\\rm S}) = \\Lambda I_0 e^{(\\kappa V_{\\rm G} - V_{\\rm S})/U_T}$ where $\\Lambda = e^{\\kappa\\Delta V_{\\rm G}/U_T}$\n",
    "\n",
    "- That is to say, this transistor passes $\\Lambda$ times more current than one without mismatch\n",
    "- This gain $\\Lambda$ is lognormally distributed"
   ]
  },
  {
   "cell_type": "markdown",
   "metadata": {},
   "source": [
    "### The distribution of transistor current gain ($\\Lambda$)\n",
    "\n",
    "<img src=\"files/lecture7/LambdaDist.png\" width=\"1000\">\n",
    "\n",
    "We have $\\Lambda = e^{\\kappa\\Delta V_{\\rm G}/U_T}$ and we know that $\\Delta V_{\\rm G}$ is normally distributed. It follows that:\n",
    "\n",
    "- $\\Lambda$ is drawn from the lognormal distribution:\n",
    "\n",
    " $p(\\Lambda)d\\Lambda = \\frac{1}{\\sigma_{\\rm V_{\\rm th}}\\sqrt{2\\pi}}\\exp\\left(-\\frac{(\\ln(\\Lambda)U_T/\\kappa)^2}{2\\sigma_{\\rm V_{\\rm th}}^2}\\right)d\\Delta V_{\\rm G}$\n",
    "\n",
    "    - We solved $\\Lambda = e^{\\kappa\\Delta V_{\\rm G}/U_T}$ for $\\Delta V_{\\rm G}$ in terms of $\\Lambda$\n",
    "    - And replaced $\\Delta V_{\\rm G}$ in the normal distribution with the resulting expression\n",
    "    - Multiplying by $d\\Lambda$ and $d\\Delta V_{\\rm G}$ makes probabilities of drawing from corresponding ranges equal\n",
    "    \n",
    "- Since $d\\Lambda/d\\Delta V_{\\rm G}=(\\kappa/U_T)\\exp(\\kappa\\Delta V_{\\rm G}/U_T)=(\\kappa/U_T)\\Lambda$, we have\n",
    "\n",
    " $p(\\Lambda) = \\frac{1}{\\Lambda(\\kappa\\sigma_{\\rm V_{\\rm th}}/U_T)\\sqrt{2\\pi}}\\exp\\left(-\\frac{(\\ln(\\Lambda)U_T/\\kappa)^2}{2\\sigma_{\\rm V_{\\rm th}}^2}\\right)$\n",
    "\n",
    "- We can rewrite this more simply by expressing $\\sigma_{\\rm V_{\\rm th}}$ in units of $U_T/\\kappa$\n",
    "\n",
    "- Naming this dimensionless standard deviation $\\sigma_{U_T} = \\kappa\\sigma_{\\rm V_{\\rm th}}/U_T$, we have\n",
    "\n",
    " $p(\\Lambda) = \\frac{1}{\\Lambda\\sigma_{\\rm U_T}\\sqrt{2\\pi}}\\exp\\left(-\\frac{\\ln(\\Lambda)^2}{2\\sigma_{U_T}^2}\\right)$\n",
    " \n",
    "- Or, equivalently, the underlying normal distribution has standard deviation $\\sigma_{\\rm U_T}$"
   ]
  },
  {
   "cell_type": "markdown",
   "metadata": {},
   "source": [
    "### Why include transistor mismatch in dimensionless models?\n",
    "\n",
    "<img src=\"files/lecture7/mismatch-response-curve.png\" width=\"1200\">\n",
    "\n",
    "It will enable us to code up dimensionless neuron models in Nengo whose heterogeneity precisely mirrors the heterogeneity in our silicon implementation of these models.\n",
    "\n",
    "What's our motivation for doing this?\n",
    "\n",
    "- With this precise correspondence in place, we can figure out how transistor sizes in our silicon circuit impact the performance of our NEF-configured networks of silicon spiking neurons \n",
    "\n",
    "- We expect there to be an optimum level of mismatch: \n",
    "    - **Too little mismatch**: Bad because the neurons' responses to input current are too similar (left, $\\sigma_{U_T}=0.05$)\n",
    "    - **Too much mismatch**: Bad because a lot of the neurons either never fire or fire all the time (right, $\\sigma_{U_T}=0.40$)\n",
    "    - **An intermediate level**: Most of the neurons start firing between -1 and +1 (middle, $\\sigma_{U_T}=0.22$) \n",
    "    \n",
    "- And, therefore, we expect there to be an optimum transistor size\n",
    "    - Since mismatch is inversely related to transistor area"
   ]
  },
  {
   "cell_type": "markdown",
   "metadata": {},
   "source": [
    "### Including transistor mismatch in leaky membrane model I\n",
    "\n",
    "<img src=\"files/lecture7/complete-lpf.png\" width=\"520\">\n",
    "\n",
    "- In synthesizing the silicon circuit design, we left out mismatch. That is, we assumed that: \n",
    "\n",
    "    $I_{\\rm D} = I_0 e^{(\\kappa V_{\\rm G}-V_{\\rm S})/U_T}$\n",
    "              \n",
    "- Observe, however, that the model with mismatch can written as:\n",
    "\n",
    "    $I_{\\rm D}/\\Lambda = I_0 e^{(\\kappa V_{\\rm G}-V_{\\rm S})/U_T}$\n",
    " \n",
    "- Therefore, our derivation still holds if:\n",
    "    - The $i^{\\rm th}$ transistor's current is divided by its current gain \n",
    "    - That is, $I_i$ is replaced with $I_i/\\Lambda_i$--the corresponding current in a zero-mismatch transistor\n",
    "    - Tranistors are numbered as shown in the figure\n",
    "\n",
    "- In particular, our previous result\n",
    "\n",
    "    $(I_u/I_v)I_{\\rm lk} = I_0 e^{\\kappa(V_u + V_{\\rm lk} -V_v)/U_T}$\n",
    " \n",
    "- becomes\n",
    "    \\begin{equation*}\n",
    "    \\frac{(I_u/\\Lambda_2)(I_{\\rm lk}/\\Lambda_1)}{(I_v/\\Lambda_4)} = I_0 e^{\\kappa(V_u + V_{\\rm lk} -V_v)/U_T}\n",
    "    \\end{equation*}\n",
    "- And we know that \n",
    "    \n",
    "    $I_0 e^{\\kappa(V_u + V_{\\rm lk} -V_v)/U_T} = I_3/\\Lambda_3$\n",
    "    \n",
    "- Hence, we have\n",
    "\\begin{equation*}\n",
    "    \\frac{I_3}{\\Lambda_3} = \\frac{(I_u/\\Lambda_2)(I_{\\rm lk}/\\Lambda_1)}{(I_v/\\Lambda_4)} \\iff\\\n",
    "    I_3 = \\frac{\\Lambda_3\\Lambda_4}{\\Lambda_1\\Lambda_2}\\frac{I_u I_{\\rm lk}}{I_v}\n",
    "\\end{equation*}"
   ]
  },
  {
   "cell_type": "markdown",
   "metadata": {},
   "source": [
    "### Including transistor mismatch in leaky membrane model II\n",
    "\n",
    "<img src=\"files/lecture7/complete-lpf-I3.png\" width=\"520\">\n",
    "\n",
    "Equating the rate of change of the capacitor's charge to the net current supplied, we have \n",
    "\n",
    "\\begin{eqnarray*}\n",
    "C\\frac{dV_v}{dI_v}\\frac{dI_v}{dt} & = & \\frac{\\Lambda_3\\Lambda_4}{\\Lambda_1\\Lambda_2}\\frac{I_u I_{\\rm lk}}{I_v} - I_{\\rm lk}\\\\\n",
    "\\iff \\frac{C U_T}{\\kappa I_v}\\frac{dI_v}{dt} & = & \\frac{\\Lambda_3\\Lambda_4}{\\Lambda_1\\Lambda_2}\\frac{I_u I_{\\rm lk}}{I_v} - I_{\\rm lk}\\\\\n",
    "\\iff \\frac{C U_T}{\\kappa I_{\\rm lk}}\\frac{dI_v}{dt} & = & \\frac{\\Lambda_3\\Lambda_4}{\\Lambda_1\\Lambda_2}I_u - I_v\n",
    "\\end{eqnarray*}\n",
    "\n",
    "Converting to a dimensionless model by normalizing with $I_{\\rm n}$ and setting $\\tau = C U_T/\\kappa I_{\\rm lk}$ yields\n",
    "\n",
    "\\begin{eqnarray*}\n",
    "\\tau\\frac{dv}{dt} & = & \\frac{\\Lambda_3\\Lambda_4}{\\Lambda_1\\Lambda_2}u - v\n",
    "\\end{eqnarray*}\n",
    "\n",
    "Note that we assumed that $I_{\\rm lk}$ has no mismatch, which is not actually the case. \n"
   ]
  },
  {
   "cell_type": "code",
   "execution_count": null,
   "metadata": {
    "collapsed": true
   },
   "outputs": [],
   "source": []
  }
 ],
 "metadata": {
  "hide_input": false,
  "kernelspec": {
   "display_name": "Python 2",
   "language": "python",
   "name": "python2"
  },
  "language_info": {
   "codemirror_mode": {
    "name": "ipython",
    "version": 2
   },
   "file_extension": ".py",
   "mimetype": "text/x-python",
   "name": "python",
   "nbconvert_exporter": "python",
   "pygments_lexer": "ipython2",
   "version": "2.7.11"
  },
  "toc": {
   "toc_cell": false,
   "toc_number_sections": true,
   "toc_threshold": 6,
   "toc_window_display": false
  }
 },
 "nbformat": 4,
 "nbformat_minor": 0
}
