{
 "cells": [
  {
   "cell_type": "markdown",
   "metadata": {},
   "source": [
    "# EE 304 - Neuromorphics: Brains in Silicon\n",
    "\n",
    "\n",
    "## From Dimensionless Models to Silicon Circuits\n",
    "\n",
    "So far we have figured out how to compute with networks of heterogeneuos spiking neurons\n",
    "\n",
    "- We employed the Neural Engineering Framework's three principles:\n",
    "    - **Representation**: Allows us to encode vector quantities in pools of spiking neurons and to decode these spike trains \n",
    "    - **Transformation**: Allows us to transform these vector quantities using weighted connections from one pool to another\n",
    "    - **Dynamics**: Allows us to perform transformations that depend on what happened at an earlier time\n",
    "\n",
    "### Silicon Circuit Implementations\n",
    "\n",
    "<img src=\"files/lecture6/LPF-Response.png\" width=\"360\">\n",
    "\n",
    "We will now start looking at how to implement heterogenous networks of spiking neurons in silicon, starting with design a circuit that implements the leaky membrane model. The figure show's its response to a current pulse.\n",
    "\n",
    "- We will first implement a neuron's leaky membrane, realizing its exponential decay with MOS transistors\n",
    "    - **Subthreshold Operation**: We operate the transistors below their threshold voltage, where the device is said to be \"off\" \n",
    "        - **Pro: Ultra-low power**: The transistor passes femtoamps to nanoamps, consuming very little power\n",
    "        - **Con: Sensitive to mismatch**: This current incresese exponentially with the gate-voltage, making it extremely sensitive to threshold voltage mismatch"
   ]
  },
  {
   "cell_type": "markdown",
   "metadata": {},
   "source": [
    "### Dimensionless Models\n",
    "\n",
    "<img src=\"files/lecture6/rc_circuit.png\" width=\"230\">\n",
    "- Remember that a neuron's leaky membrane may be modeled as:\n",
    "\n",
    "$$C\\frac{dV}{dt} = -G_{\\rm leak}(V-E_{\\rm leak})+I_{\\rm in}$$\n",
    "\n",
    "- Setting $\\tau = C/G_{\\rm leak}$, $v = (V-E_{\\rm leak})/V_n$, and $u=I_{\\rm in}/(G_{\\rm leak}V_n)$ yields the dimensionless form:\n",
    "\n",
    "$$\\tau\\frac{dv}{dt} = -v + u$$\n",
    "\n",
    "- Here, $v$ is the voltage relative to $E_{\\rm leak}$ in units of $V_n$, some convenient amount of voltage, and $u$ is the current in units of $G_{\\rm leak}V_n$\n",
    "\n",
    "- This is a generally applicable method for transforming dimensioned models into dimensionless ones "
   ]
  },
  {
   "cell_type": "markdown",
   "metadata": {},
   "source": [
    "### Leaky Membrane's Current-Mode Silicon Circuit \n",
    "\n",
    "<img src=\"files/lecture6/generic-lpf-ckt.png\" width=\"360\">\n",
    "\n",
    "- We choose the following representations:\n",
    "    - A current $I_v$ represents the dimensionless membrane voltage $v$ \n",
    "    - A current $I_u$ represents the dimensionless input current $u$\n",
    "\n",
    "- We use the following circuit elements:\n",
    "    - A capacitor models the membrane's capacitance\n",
    "        - Its voltage ($V_v$) depends on the current fed to it as: $dV_v/dt = I_{\\rm C}/C$\n",
    "    - A subcircuit feeds a current $I_C$ to the capacitor\n",
    "        - It computes $I_C$ as a function of $I_u$ and $I_v$ so as to implement the model\n",
    "    - A transistor converts the capacitor's voltage ($V_v$) to $I_v$\n",
    "        - $I_{\\rm D}(V_v)$ defines the dependence of its drain current on its gate voltage"
   ]
  },
  {
   "cell_type": "markdown",
   "metadata": {},
   "source": [
    "### How should $I_C$ depend on $I_u$ and $I_v$?\n",
    "\n",
    "<img src=\"files/lecture6/generic-lpf-ckt.png\" width=\"360\">\n",
    "\n",
    "- To figure this out, we first covert all currents to dimensionless form by defining a unit current $I_n$:\n",
    "    - Thus, $u = I_u/I_n$ and $v = I_v/I_n$ \n",
    "\n",
    "- Substituting these expressions into the dimensionless model yields\n",
    "\n",
    "    $$ \\tau\\frac{d}{dt}\\left(\\frac{I_v}{I_n}\\right) = -\\frac{I_v}{I_n} + \\frac{I_u}{I_n} $$\n",
    "\n",
    "    $$ \\tau\\frac{dI_v}{dt} = -I_v + I_u $$\n",
    "\n",
    "    $$ \\tau\\frac{dI_v}{dV_v}\\frac{dV_v}{dt} = -I_v + I_u $$\n",
    "\n",
    "    $$ \\tau\\frac{dI_{\\rm D}(V_v)}{dV_v}\\frac{I_C}{C} = -I_v + I_u $$\n",
    "\n",
    "- The derivative of a transistor's current with respect to its gate voltage, \n",
    "$dI_{\\rm D}(V_{\\rm G})/dV_{\\rm G}$, is called its transconductance, $g_{\\rm M}(V_{\\rm G})$\n",
    "\n",
    "- Substituting this in the previous expression yields \n",
    "    - $$ I_C = \\frac{C/\\tau}{g_{\\rm M}(V_v)}(I_u - I_v) $$\n"
   ]
  },
  {
   "cell_type": "markdown",
   "metadata": {},
   "source": [
    "### Subtheshold MOS Implementation:  $I_{\\rm C}(I_u,I_v)=(I_u/I_v-1)I_{\\rm lk}$ \n",
    "\n",
    "<img src=\"files/lecture6/intermediate-lpf-circuit.png\" width=\"320\">\n",
    "\n",
    "- For the subtheshold MOS transistor in *saturation* ($V_{\\rm DS}>4U_T$): \n",
    "\n",
    "    $$ I_{\\rm D}(V_{\\rm G}) = I_0 e^{(\\kappa V_{\\rm G}-V_{\\rm S})/U_T} $$\n",
    " \n",
    "    $$ g_{\\rm M}(V_{\\rm G}) \\equiv \\frac{dI_{\\rm D}(V_{\\rm G})}{dV_{\\rm G}} \n",
    "                            = \\frac{\\kappa}{U_T}I_0 e^{(\\kappa V_{\\rm G}-V_{\\rm S})/U_T} \n",
    "                            = \\frac{\\kappa I_{\\rm D}}{U_T} $$\n",
    "\n",
    "- Hence, we have \n",
    "\n",
    "\\begin{align}\n",
    "    I_C =& \\frac{C/\\tau}{\\kappa I_{v}/U_T}(I_u - I_v)\\\\\n",
    "        =& \\frac{I_{\\rm lk}}{I_{v}}(I_u - I_v)\\\\\n",
    "        =& \\frac{I_u}{I_v}I_{\\rm lk} - I_{\\rm lk}\n",
    "\\end{align}\n",
    "- where $I_{\\rm lk} = (C U_T)/(\\kappa\\tau)$"
   ]
  },
  {
   "cell_type": "markdown",
   "metadata": {
    "collapsed": true
   },
   "source": [
    "### Subtheshold MOS Implementation: Calculating $I_{\\rm C}^+=(I_u/I_v)I_{\\rm lk}$ \n",
    "\n",
    "<img src=\"files/lecture6/multiply-divide.png\" width=\"640\">\n",
    "\n",
    "- As the subtheshold ($V_{\\rm G}<V_{\\rm th}$) MOS transistor's current is exponentially related to its gate and source voltages: \n",
    "\n",
    "    $$ I_{\\rm D}(V_{\\rm G},V_{\\rm S}) = I_0 e^{(\\kappa V_{\\rm G}-V_{\\rm S})/U_T} $$\n",
    "    \n",
    "    - Terminal voltages are measured relative to the bulk terminal ($V_{\\rm B}$)\n",
    "\n",
    "\n",
    "- By taking logarithms, we obtain: \n",
    "          \n",
    "    $$ \\ln(I_{\\rm D}) = \\ln(I_0)+(\\kappa V_{\\rm G}-V_{\\rm S})/U_T $$\n",
    "    \n",
    "- If the transistor's source terminal is tied to its bulk terminal, we get $V_{\\rm S}=0$, which yields the simpler expression\n",
    "          \n",
    "    $$ \\ln(I_{\\rm D}) = \\ln(I_0) + \\kappa V_{\\rm G}/U_T $$\n",
    "\n",
    "- We use this relationship to express $I_{\\rm C}^+=(I_u/I_v)I_{\\rm lk}$ in terms of the gate-bulk voltages $V_u$, $V_v$ and $V_{\\rm lk}$ of transistors carrying the currents $I_u$, $I_v$, and $I_{\\rm lk}$, respectively:\n",
    "\\begin{align}\n",
    "    \\ln(I_{\\rm C}^+) &= \\ln(I_u)+\\ln(I_{\\rm lk})-\\ln{I_v}\\\\\n",
    "                             &= (\\ln(I_0) + \\kappa V_u/U_T) + (\\ln(I_0) + \\kappa V_{\\rm lk}/U_T) - (\\ln(I_0) + \\kappa V_v/U_T)\n",
    "\\end{align}\n",
    "\n",
    "- Exponentiating both sides yields\n",
    "\n",
    "    $$ I_{\\rm C}^+ = I_0 e^{\\kappa(V_u + V_{\\rm lk} -V_v)/U_T} $$\n",
    "\n",
    "- Implying that $I_{\\rm C}^+$ can be obtained by setting the gate-bulk voltage of a transistor to $V_u + V_{\\rm lk} -V_v$\n",
    "\n",
    "- This may be arranged as shown in the figure\n",
    "- The current $(I_u/I_v)I_{\\rm lk}$ would flow from the transistor's source onto the capacitor"
   ]
  },
  {
   "cell_type": "markdown",
   "metadata": {
    "collapsed": true
   },
   "source": [
    "### Subtheshold MOS Implementation: Complete Circuit Design \n",
    "\n",
    "<img src=\"files/lecture6/complete-lpf.png\" width=\"520\">\n",
    "\n",
    "- We have changed the $I_{\\rm C}(I_u,I_v)$ subcircuit slightly to eliminate the battery: \n",
    "    - There is a negative feedback-loop around the first two transistors \n",
    "    - Given $I_u$ and $I_{\\rm lk}$, it sets $V_u$ and $V_{\\rm lk}$ appropriately,  \n",
    "\n",
    "- This circuit satisfies the differential equation\n",
    "\n",
    "\\begin{split}\n",
    "    \\underbrace{ \\frac{C U_T}{\\kappa I_{\\rm lk}} }_{\\tau}\\underbrace{ \\frac{\\dot{I}_v}{I_{\\rm n}} }_{\\dot{v}}\\\n",
    "    &= -\\underbrace{ \\frac{I_v}{I_{\\rm n}} }_{v} + \\underbrace{ \\frac{I_u}{I_{\\rm n}} }_{u}\n",
    "\\end{split}\n",
    " \n",
    "- This mapping tells you how to set $I_{\\rm lk}$ and $I_u$, given $\\tau$ and $u$ specified by the user:\n",
    "\n",
    "\\begin{equation*}\n",
    "  I_{\\rm lk} = \\frac{C U_T}{\\kappa \\tau} \\;\\; {\\rm and} \\;\\; I_u = u I_n\n",
    "\\end{equation*}\n"
   ]
  },
  {
   "cell_type": "code",
   "execution_count": null,
   "metadata": {
    "collapsed": true
   },
   "outputs": [],
   "source": []
  }
 ],
 "metadata": {
  "hide_input": false,
  "kernelspec": {
   "display_name": "Python 2",
   "language": "python",
   "name": "python2"
  },
  "language_info": {
   "codemirror_mode": {
    "name": "ipython",
    "version": 2
   },
   "file_extension": ".py",
   "mimetype": "text/x-python",
   "name": "python",
   "nbconvert_exporter": "python",
   "pygments_lexer": "ipython2",
   "version": "2.7.11"
  },
  "toc": {
   "toc_cell": false,
   "toc_number_sections": true,
   "toc_threshold": 6,
   "toc_window_display": false
  }
 },
 "nbformat": 4,
 "nbformat_minor": 0
}
