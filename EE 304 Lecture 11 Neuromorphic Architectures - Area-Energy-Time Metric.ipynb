{
 "cells": [
  {
   "cell_type": "markdown",
   "metadata": {},
   "source": [
    "# EE 304 - Neuromorphics: Brains in Silicon\n",
    "\n",
    "\n",
    "##  Neuromorphic Architectures: Area-Energy-Time Metric\n",
    "\n",
    "The story thus far: We reviewed four different architectures.\n",
    "\n",
    "They differ in the extent to which hardware elements that model axons, synapses, and dendrites are shared:\n",
    "\n",
    "- <b>Fully-Dedicated</b>: Each hardware element is dedicated to a single neuronal element\n",
    "- <b>Shared-Axon</b>: $\\log_2(N)$ metal wires are shared by $N$ axons \n",
    "- <b>Shared-Synapse</b>: A single lowpass-filter is shared by all of a neuron's $N$ synapses\n",
    "- <b>Shared-Dendrite</b>: A single resistive-mesh is shared by all $N$ neurons' dendrites\n",
    "\n",
    "The cumulative effect is to cut the number of synapse circuits and RAM words:\n",
    "\n",
    "- From $N^2$ in the fully-dedicated architecture to $N/A$ in the shared-dendrite architecture. \n",
    "- where $A$ is the number of neurons a dendritic arbor spans\n",
    "    \n",
    "####  Outline for this lecture\n",
    "\n",
    "These savings reduce silicon area dramatically, but comes at the expense of:\n",
    "\n",
    "- Throughput, because hardware elements are multiplexed in time\n",
    "    - instead of running in parallel\n",
    "- Energy, because multibit addresses and weights are shuttled around\n",
    "    - instead of single-bit spikes\n",
    "\n",
    "In this, lecture we will quantify this trade-off using the **area-energy-time** metric\n",
    "\n",
    "- We will derive how this metric scales for the four architectures"
   ]
  },
  {
   "cell_type": "markdown",
   "metadata": {},
   "source": [
    "### The Circuits-Traffic Metric\n",
    "\n",
    "We will start by looking at a simpler metric, the **circuits-traffic** metric, or CT. \n",
    "\n",
    "The CT metric is usefull because its roughly proportional to the amount the power a chip consumes.\n",
    "\n",
    "This relationship holds because power comsumption may be broken down into two components:\n",
    "\n",
    "- Static: Due to leakage currents\n",
    "    - Roughly proportional to the number of circuits a chip has\n",
    "        - Assuming each circuit has roughly the same number of transistors\n",
    "- Dynamic: Due to capacitive currents\n",
    "    - Roughly proportional to the amount of traffic a chip handles\n",
    "        - Assuming each bit switches roughly the same amount of capacitance\n",
    "\n",
    "<img src=\"files/lecture11/CircuitsTrafficTable.png\" width=\"840\">\n",
    "\n",
    "We have already tabulated the four architecture's circuit counts. We will now add their traffic to that table (see above):\n",
    "\n",
    "- $B$ is the number of bits each weight has\n",
    "- $f_{\\rm spk}$ is the average spike rate\n",
    "- $f_{\\rm step}=1/t_{\\rm step}$ is the inverse of the time-step\n",
    "\n",
    "We assume that the fully-shared architecture is not event-driven. \n",
    "\n",
    "Instead, each neuron's and synapse's state is updated every $t_{\\rm step}$ seconds: \n",
    "\n",
    "- An $N$-component vector, whose binary values indicate neurons that spiked\n",
    "- And an $N \\times N$-component matrix, whose B-bit values are the weights\n",
    "- Are multiplied together every $t_{\\rm step}$ seconds"
   ]
  },
  {
   "cell_type": "markdown",
   "metadata": {},
   "source": [
    "### The Area-Energy-Time Metric\n",
    "\n",
    "<img src=\"files/lecture10/TwoNeuronNetwork.png\" width=\"720\">\n",
    "\n",
    "In all, a neuron has four elements:\n",
    "\n",
    "- <b>Axon</b>: Communicates its spikes to other neurons\n",
    "- <b>Synapse</b>: Coverts a spike to a graded potential\n",
    "- <b>Dendrite</b>: Summates these graded potentials \n",
    "- <b>Soma</b>: Converts these summated graded potentials to a spike train"
   ]
  }
 ],
 "metadata": {
  "kernelspec": {
   "display_name": "Python 2",
   "language": "python",
   "name": "python2"
  },
  "language_info": {
   "codemirror_mode": {
    "name": "ipython",
    "version": 2
   },
   "file_extension": ".py",
   "mimetype": "text/x-python",
   "name": "python",
   "nbconvert_exporter": "python",
   "pygments_lexer": "ipython2",
   "version": "2.7.11"
  }
 },
 "nbformat": 4,
 "nbformat_minor": 0
}
