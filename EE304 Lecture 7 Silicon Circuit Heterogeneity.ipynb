{
 "cells": [
  {
   "cell_type": "markdown",
   "metadata": {},
   "source": [
    "# EE 304 - Neuromorphics: Brains in Silicon\n",
    "\n",
    "\n",
    "##  Silicon Circuit Heterogeneity\n",
    "\n",
    "<img src=\"files/lecture7/complete-lpf.png\" width=\"520\">\n",
    "The story thus far:\n",
    "\n",
    "- We started with a dimensionless model of the leaky membrane\n",
    "    - a first-order linear low-pass filter\n",
    "- We represented the dimensionless variables with currents\n",
    "    - these current levels to keep the gate voltage subthreshold (fA to nA)\n",
    "    - and were normalized by a \"unit current\" ($I_{\\rm n}$)\n",
    "- We used a capacitor (C) to represent the membrane's capactitance \n",
    "- We derived an expression for the current charging or discharging the capacitor\n",
    "    - in terms of the input ($I_u$) and output ($I_v$) currents\n",
    "- We found that the net current is proportional to $I_u/I_v - 1$\n",
    "    - The proportionalilty constant ($I_{\\rm lk}$) is given by $C U_T/\\kappa\\tau$\n",
    "    - where $\\tau$ is the desired time-constant \n",
    "- To divide and multiply, we exploited the exponential current-voltage relation:\n",
    "    - Multiply: Apply sum of two gate voltages to third transistor's gate\n",
    "    - Divide: Apply difference of two gate voltages to third transistor's gate"
   ]
  },
  {
   "cell_type": "markdown",
   "metadata": {},
   "source": [
    "### How similar is one silicon circuit to another?\n",
    "\n",
    "<img src=\"files/lecture7/TransistorDopants50nm.png\" width=\"800\">\n",
    "\n",
    "We will now start to look at the effects of the fabrication process. It is far from perfect! \n",
    "\n",
    "- \"Exact\" copies of the circuit we designed are very different from each other\n",
    "- For the same input current, their output currents can differ by a factor of 10!\n",
    "- This heterogeneity arises from two sources:\n",
    "    - Transistor mismatch: Some transistors receive more or less dopant atoms than others\n",
    "    - Subthreshold operation: Dopant fluctuations are amplified by the exponential current-voltage relationship\n",
    "    \n",
    "- They become more similar if we use more silicon area or burn more electrical power \n",
    "- These two choices, respectively, reduce the impact of the two sources:\n",
    "    - Transistor mismatch: Transistors with larger area average out dopant fluctuations\n",
    "    - Subtreshold operation: As the current increases, the current-voltage dependence becomes less steep\n",
    "        - It transitions from exponential (subthreshold) to quadratic (above threshold) "
   ]
  },
  {
   "cell_type": "markdown",
   "metadata": {},
   "source": [
    "### How similar is one transistor to another?\n",
    "\n",
    "<img src=\"files/lecture7/ThresholdDistribution90nm.pdf\" width=\"500\">\n",
    "\n",
    "A lot of work has been done on characterizing transistor mismatch and understanding how it arises \n",
    "\n",
    "- Threshold voltages are normally distributed\n",
    "    - Arises because the number of dopant atoms in the channel is normally distributed\n",
    "    - Since these dopants are charged, their fluctuations ($\\Delta N$) result in charge fluctuations ($\\Delta Q = q\\Delta N$)\n",
    "    - $\\Delta V_{\\rm thr} \\approx \\Delta Q/C_{\\rm ox}$, where $C_{\\rm ox}$ is the gate-to-channel capacitance \n",
    "- This is what we would expect if \n",
    "    - Each dopant atom's chooses it location independently\n",
    "    - The mean number of dopant atoms each transistor receives is large \n",
    "        - It would be Poisson rather than Gaussian if the mean is small (few dozen)"
   ]
  },
  {
   "cell_type": "markdown",
   "metadata": {
    "collapsed": true
   },
   "source": [
    "### How does transistor mismatch vary with channel area?\n",
    "\n",
    "<img src=\"files/lecture7/ThresholdSigma-v-Area90nm.pdf\" width=\"500\">\n",
    "\n",
    "- The threshold voltages' variance is proportional to the channel's area ($W \\times L$)\n",
    "    - The standard deviation is proportional to the square-root of the area\n",
    "    - To reduce the standard deviation by a factor of two, we have to increase the area by a factor of four!\n",
    "- This is expected because the assumptions above imply that:\n",
    "    - The variance in dopant number is equal to the mean\n",
    "    - Since the voltage fluctuations' variance is proportional to the dopant count\n",
    "    - And the dopant count is proportional to the transistor's area\n",
    "    - It follows that the voltage fluctuations' variance is proportional to the transistor's area\n",
    "- The trend breaks down at smaller areas because edge effects become significant \n",
    "    - Line-edge roughness, boundary effects, etc"
   ]
  },
  {
   "cell_type": "markdown",
   "metadata": {},
   "source": [
    "### How do threshold-voltage variations translate to current variations?\n",
    "\n",
    "<img src=\"files/lecture7/NormalV-to-LognormalI.pdf\" width=\"800\">\n",
    "\n",
    "- Normally distributed threshold variations translate to lognormally distributed current variations\n",
    "    - Threshold voltage variations may be viewed as adding random offsets to the gate voltage\n",
    "    - Do that and pass the resulting voltage through the exponential current-voltage relationship\n",
    "    - You will end up turning a normal distribution into a lognormal one\n",
    "        - That is, the log of the currents is normally distributed\n",
    "        - The relationships between the two distributions' mean and standard deviation is given above"
   ]
  },
  {
   "cell_type": "code",
   "execution_count": null,
   "metadata": {
    "collapsed": true
   },
   "outputs": [],
   "source": []
  }
 ],
 "metadata": {
  "kernelspec": {
   "display_name": "Python 2",
   "language": "python",
   "name": "python2"
  },
  "language_info": {
   "codemirror_mode": {
    "name": "ipython",
    "version": 2
   },
   "file_extension": ".py",
   "mimetype": "text/x-python",
   "name": "python",
   "nbconvert_exporter": "python",
   "pygments_lexer": "ipython2",
   "version": "2.7.9"
  }
 },
 "nbformat": 4,
 "nbformat_minor": 0
}
