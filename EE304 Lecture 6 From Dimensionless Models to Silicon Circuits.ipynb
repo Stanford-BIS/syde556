{
 "cells": [
  {
   "cell_type": "markdown",
   "metadata": {},
   "source": [
    "# EE 304 - Neuromorphics: Brains in Silicon\n",
    "\n",
    "\n",
    "## From Dimensionless Models to Silicon Circuits\n",
    "\n",
    "- So far we have figure out how to compute with networks of heterogeneuos spiking neurons\n",
    "    - We employed the Neural Engineering Framework's three principles\n",
    "    - Representation: Allows us to encode vector quantities in pools of spiking and to decode these spike trains  \n",
    "    - Transformation: Allows us to transform these vector quantities using weighted connections from one pool to another\n",
    "    - Dynamics: Allows us to perform transformations that depend on what happened at an earlier time\n",
    "\n",
    "### Silicon Circuit Implementations\n",
    "- We will now start looking at how to implement heterogenous networks of spiking neurons\n",
    "    - We will start by implementing the synapse, realizing its exponential decay with MOS transistors\n",
    "    - We opereate the transistors below their threshold voltage--the subthreshold region--where the device is said to be \"off\" \n",
    "    - In this region, the transistor passes very little current--ranging from femtoamps to nanoamps\n",
    "    - Thus, unlike your typical analog circuit,our circuit designs use very little power,"
   ]
  },
  {
   "cell_type": "markdown",
   "metadata": {},
   "source": [
    "### Dimensionless Models\n",
    "\n",
    "<img src=\"files/lecture6/rc_circuit.png\" width=\"250\">\n",
    "- Remember that a neuron's leaky membrane may be modeled as:\n",
    "\n",
    "$C\\frac{dV}{dt} = -G_{\\rm leak}(V-E_{\\rm leak})+I_{\\rm in}$\n",
    "\n",
    "- Setting $\\tau = C/G_{\\rm leak}$, $v = (V-E_{\\rm leak})/V_n$, and $u=I_{\\rm in}/(G_{\\rm leak}V_n)$ yields the dimensionless form:\n",
    "\n",
    "$\\tau\\frac{dv}{dt} = -v + u$\n",
    "\n",
    "- Here, $v$ is the voltage relative to $E_{\\rm leak}$ in units of $V_n$, some convenient amount of voltage and $u$ current in units of $G_{\\rm leak}V_n$\n",
    "\n",
    "- This method for transforming dimensioned models into dimensionless ones is generally applicable"
   ]
  },
  {
   "cell_type": "raw",
   "metadata": {},
   "source": []
  },
  {
   "cell_type": "markdown",
   "metadata": {},
   "source": [
    "### Leaky Membrane's Current-Mode Silicon Circuit \n",
    "\n",
    "<img src=\"files/lecture6/generic-lpf-ckt.png\" width=\"360\">\n",
    "\n",
    "- We choose the following representations:\n",
    "    - A current $I_v$ represents the dimensionless membrane voltage $v$ \n",
    "    - A current $I_u$ represents the dimensionless input current $u$\n",
    "\n",
    "- We use the following circuit elements:\n",
    "    - A capacitor models the membrane's capacitance\n",
    "        - Its voltage ($V_v$) depends on the current fed to it ($I_{\\rm C}$) as $dV_v/dt = I_{\\rm C}/C$\n",
    "    - A subcircuit feeds a current $I_C$ to the capacitor\n",
    "        - It computes $I_C$ as a function of $I_u$ and $I_v$ so as to implement the model\n",
    "    - A transistor converts the capacitor's voltage ($V_v$) to $I_v$\n",
    "        - $I_{\\rm D}(V_v)$ defines the dependence of its drain current on its gate voltage"
   ]
  },
  {
   "cell_type": "markdown",
   "metadata": {},
   "source": [
    "### How should $I_C$ depend on $I_u$ and $I_v$?\n",
    "\n",
    "<img src=\"files/lecture6/generic-lpf-ckt.png\" width=\"360\">\n",
    "\n",
    "- To figure this out, we first covert all currents to dimensionless form by defining a unit current $I_n$:\n",
    "    - Thus, $u = I_u/I_n$ and $v = I_v/I_n$ \n",
    "\n",
    "- Substituting these expressions into the dimensionless model yields\n",
    "\n",
    "    $\\tau\\frac{d}{dt}\\left(\\frac{I_v}{I_n}\\right) = -\\frac{I_v}{I_n} + \\frac{I_u}{I_n}$\n",
    "\n",
    "    $\\tau\\frac{dI_v}{dt} = -I_v + I_u$\n",
    "\n",
    "    $\\tau\\frac{dI_v}{dV_v}\\frac{dV_v}{dt} = -I_v + I_u$\n",
    "\n",
    "    $\\tau\\frac{dI_{\\rm D}(V_v)}{dV_v}\\frac{I_C}{C} = -I_v + I_u$\n",
    "\n",
    "- The derivative of a transistor's current with respect to its gate voltage, \n",
    "$dI_{\\rm D}(V_{\\rm G})/dV_{\\rm G}$, is called its transconductance, $g_{\\rm M}(V_{\\rm G})$\n",
    "\n",
    "- Substituting this in the previous expression yields \n",
    "    - $I_C = \\frac{C/\\tau}{g_{\\rm M}(V_v)}(I_u - I_v)$\n"
   ]
  },
  {
   "cell_type": "markdown",
   "metadata": {},
   "source": [
    "### Subtheshold MOS Implementation\n",
    "\n",
    "<img src=\"files/lecture6/generic-lpf-ckt.png\" width=\"360\">\n",
    "\n",
    "- For the subtheshold MOS transistor: \n",
    "\n",
    "    $I_{\\rm D}(V_{\\rm G}) = I_0 e^{\\kappa V_{\\rm G}/U_T}$\n",
    " \n",
    "    $g_{\\rm M}(V_{\\rm G}) \\equiv \\frac{dI_{\\rm D}(V_{\\rm G})}{dV_v} = \\frac{\\kappa}{U_T}I_0 e^{\\kappa V_{\\rm G}/U_T} = \\frac{\\kappa I_{\\rm D}}{U_T}$\n",
    "\n",
    "- Hence, we have \n",
    "    $I_C = \\frac{C/\\tau}{\\kappa I_{v}/U_T}(I_u - I_v) = \\frac{I_{\\rm lk}}{I_{v}}(I_u - I_v)$\n",
    "    - where $I_{\\rm lk} = (C U_T)/(\\kappa\\tau)$"
   ]
  },
  {
   "cell_type": "code",
   "execution_count": null,
   "metadata": {
    "collapsed": true
   },
   "outputs": [],
   "source": []
  }
 ],
 "metadata": {
  "kernelspec": {
   "display_name": "Python 2",
   "language": "python",
   "name": "python2"
  },
  "language_info": {
   "codemirror_mode": {
    "name": "ipython",
    "version": 2
   },
   "file_extension": ".py",
   "mimetype": "text/x-python",
   "name": "python",
   "nbconvert_exporter": "python",
   "pygments_lexer": "ipython2",
   "version": "2.7.9"
  }
 },
 "nbformat": 4,
 "nbformat_minor": 0
}
